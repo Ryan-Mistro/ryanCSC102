{
 "cells": [
  {
   "cell_type": "code",
   "execution_count": 2,
   "id": "d0f21714",
   "metadata": {},
   "outputs": [
    {
     "name": "stdout",
     "output_type": "stream",
     "text": [
      "\n",
      " Enter the principal amount: 30000\n",
      "\n",
      " Enter the time: 3\n",
      "\n",
      " Enter the rate (as a decimal): 0.2\n",
      "\n",
      " Enter the compounding time: 1\n",
      "\n",
      " Simple Interest =  18000.0\n",
      "\n",
      " Compound Interest =  51839.99999999999\n",
      "\n",
      " Annuity Plan =  109199.99999999997\n"
     ]
    }
   ],
   "source": [
    "# Input values\n",
    "P = float(input(\"\\n Enter the principal amount: \"))\n",
    "T = float(input(\"\\n Enter the time: \"))\n",
    "R = float(input(\"\\n Enter the rate (as a decimal): \"))\n",
    "n = float(input(\"\\n Enter the compounding time: \"))\n",
    "\n",
    "# Calculate simple interest and compound interest\n",
    "Simpleinterest = P * T * R\n",
    "Compoundinterest = P * (((1 + R/n) ** (n*T)))\n",
    "Annuityplan = P * (((1 + R/n) ** (n*T) - 1) / (R/n))\n",
    "\n",
    "# Output\n",
    "print(\"\\n Simple Interest = \", Simpleinterest)\n",
    "print(\"\\n Compound Interest = \", Compoundinterest)\n",
    "print(\"\\n Annuity Plan = \", Annuityplan)"
   ]
  },
  {
   "cell_type": "code",
   "execution_count": null,
   "id": "52648e09",
   "metadata": {},
   "outputs": [],
   "source": []
  }
 ],
 "metadata": {
  "kernelspec": {
   "display_name": "Python 3 (ipykernel)",
   "language": "python",
   "name": "python3"
  },
  "language_info": {
   "codemirror_mode": {
    "name": "ipython",
    "version": 3
   },
   "file_extension": ".py",
   "mimetype": "text/x-python",
   "name": "python",
   "nbconvert_exporter": "python",
   "pygments_lexer": "ipython3",
   "version": "3.10.9"
  }
 },
 "nbformat": 4,
 "nbformat_minor": 5
}
