{
 "cells": [
  {
   "cell_type": "code",
   "execution_count": 12,
   "id": "4adfcaa4",
   "metadata": {},
   "outputs": [
    {
     "name": "stdout",
     "output_type": "stream",
     "text": [
      "Please enter your names:hiccup\n",
      "Please enter your names:sphen\n",
      "Welcome hiccup and sphen\n",
      "Please enter your age:23\n",
      "Please enter your age:32\n",
      "hiccup your age is 32 and sphen your age is 23\n"
     ]
    }
   ],
   "source": [
    "str = input(\"Please enter your names:\")\n",
    "str1 = input(\"Please enter your names:\")\n",
    "\n",
    "print(f\"Welcome {str} and {str1}\")\n",
    "int = input(\"Please enter your age:\")\n",
    "int2 = input (\"Please enter your age:\")\n",
    "\n",
    "print(f\"{str} your age is {int2} and {str1} your age is {int}\")"
   ]
  }
 ],
 "metadata": {
  "kernelspec": {
   "display_name": "Python 3 (ipykernel)",
   "language": "python",
   "name": "python3"
  },
  "language_info": {
   "codemirror_mode": {
    "name": "ipython",
    "version": 3
   },
   "file_extension": ".py",
   "mimetype": "text/x-python",
   "name": "python",
   "nbconvert_exporter": "python",
   "pygments_lexer": "ipython3",
   "version": "3.10.9"
  }
 },
 "nbformat": 4,
 "nbformat_minor": 5
}
